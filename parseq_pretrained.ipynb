{
 "cells": [
  {
   "cell_type": "code",
   "execution_count": 1,
   "metadata": {},
   "outputs": [],
   "source": [
    "import torch\n",
    "from PIL import Image\n",
    "from strhub.data.module import SceneTextDataModule"
   ]
  },
  {
   "cell_type": "code",
   "execution_count": 2,
   "metadata": {},
   "outputs": [
    {
     "name": "stderr",
     "output_type": "stream",
     "text": [
      "/DATA/gyan/anaconda3/envs/parseq_hw/lib/python3.9/site-packages/torch/hub.py:294: UserWarning: You are about to download and run code from an untrusted repository. In a future release, this won't be allowed. To add the repository to your trusted list, change the command to {calling_fn}(..., trust_repo=False) and a command prompt will appear asking for an explicit confirmation of trust, or load(..., trust_repo=True), which will assume that the prompt is to be answered with 'yes'. You can also use load(..., trust_repo='check') which will only prompt for confirmation if the repo is not already trusted. This will eventually be the default behaviour\n",
      "  warnings.warn(\n",
      "Downloading: \"https://github.com/baudm/parseq/zipball/main\" to /DATA/gyan/.cache/torch/hub/main.zip\n",
      "/DATA/gyan/anaconda3/envs/parseq_hw/lib/python3.9/site-packages/tqdm/auto.py:21: TqdmWarning: IProgress not found. Please update jupyter and ipywidgets. See https://ipywidgets.readthedocs.io/en/stable/user_install.html\n",
      "  from .autonotebook import tqdm as notebook_tqdm\n",
      "Downloading: \"https://github.com/baudm/parseq/releases/download/v1.0.0/parseq-bb5792a6.pt\" to /DATA/gyan/.cache/torch/hub/checkpoints/parseq-bb5792a6.pt\n",
      "100%|██████████| 91.0M/91.0M [00:10<00:00, 8.94MB/s]\n"
     ]
    }
   ],
   "source": [
    "# Load model and image transforms\n",
    "parseq = torch.hub.load('baudm/parseq', 'parseq', pretrained=True).eval()\n",
    "img_transform = SceneTextDataModule.get_transform(parseq.hparams.img_size)"
   ]
  },
  {
   "cell_type": "code",
   "execution_count": 3,
   "metadata": {},
   "outputs": [],
   "source": [
    "img_path = '/DATA/gyan/GP/parseq/demo_images/art-01107.jpg'"
   ]
  },
  {
   "cell_type": "code",
   "execution_count": 4,
   "metadata": {},
   "outputs": [],
   "source": [
    "img = Image.open(img_path).convert('RGB')\n",
    "# Preprocess. Model expects a batch of images with shape: (B, C, H, W)\n",
    "img = img_transform(img).unsqueeze(0)"
   ]
  },
  {
   "cell_type": "code",
   "execution_count": 5,
   "metadata": {},
   "outputs": [
    {
     "data": {
      "text/plain": [
       "torch.Size([1, 26, 95])"
      ]
     },
     "execution_count": 5,
     "metadata": {},
     "output_type": "execute_result"
    }
   ],
   "source": [
    "logits = parseq(img)\n",
    "logits.shape  # torch.Size([1, 26, 95]), 94 characters + [EOS] symbol"
   ]
  },
  {
   "cell_type": "code",
   "execution_count": 6,
   "metadata": {},
   "outputs": [
    {
     "name": "stdout",
     "output_type": "stream",
     "text": [
      "Decoded label = CHEWBACCA\n"
     ]
    }
   ],
   "source": [
    "# Greedy decoding\n",
    "pred = logits.softmax(-1)\n",
    "label, confidence = parseq.tokenizer.decode(pred)\n",
    "print('Decoded label = {}'.format(label[0]))"
   ]
  }
 ],
 "metadata": {
  "kernelspec": {
   "display_name": "parseq_hw",
   "language": "python",
   "name": "python3"
  },
  "language_info": {
   "codemirror_mode": {
    "name": "ipython",
    "version": 3
   },
   "file_extension": ".py",
   "mimetype": "text/x-python",
   "name": "python",
   "nbconvert_exporter": "python",
   "pygments_lexer": "ipython3",
   "version": "3.9.0"
  }
 },
 "nbformat": 4,
 "nbformat_minor": 2
}
